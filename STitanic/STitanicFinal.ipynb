{
 "cells": [
  {
   "cell_type": "code",
   "execution_count": 36,
   "metadata": {},
   "outputs": [],
   "source": [
    "import pandas as pd\n",
    "import numpy as np\n",
    "import seaborn as sns"
   ]
  },
  {
   "cell_type": "code",
   "execution_count": 37,
   "metadata": {},
   "outputs": [],
   "source": [
    "train_data = pd.read_csv(\"./train.csv\")\n",
    "test_data = pd. read_csv(\"./test.csv\")\n"
   ]
  },
  {
   "cell_type": "code",
   "execution_count": 38,
   "metadata": {},
   "outputs": [],
   "source": [
    "def make_frame_ready(source_frame: pd.DataFrame) -> pd.DataFrame:\n",
    "    \n",
    "\n",
    "    #make new column group from the passengerId\n",
    "    source_frame[\"Group\"] = source_frame[\"PassengerId\"].apply(lambda x: x.split(\"_\")[0])\n",
    "\n",
    "    #make new column family from the name of the passenger\n",
    "    source_frame[\"Family\"] = source_frame[\"Name\"].apply(lambda x: str(x).split(\" \")[-1])\n",
    "\n",
    "\n",
    "    #impute missing family from group\n",
    "    source_frame[\"Family\"].isna = source_frame.groupby(\"Group\")[\"Family\"].agg(lambda x: x.value_counts().index[0] )\n",
    "\n",
    "    #split cabin infor into three parts\n",
    "\n",
    "    #Put cabin number into bins\n",
    "\n",
    "\n",
    "    #create age category\n",
    "\n",
    "\n",
    "    #set spending for cryosleepers\n",
    "\n",
    "\n",
    "    #create totalSpending column\n",
    "\n",
    "\n",
    "    #set spending for all children to 0\n",
    "\n",
    "\n",
    "    #impute VIP status    \n",
    "    \n",
    "    return source_frame"
   ]
  },
  {
   "cell_type": "code",
   "execution_count": 39,
   "metadata": {},
   "outputs": [],
   "source": [
    "train_data = make_frame_ready(train_data)"
   ]
  }
 ],
 "metadata": {
  "interpreter": {
   "hash": "14b2fa792dfd361b5372eec39c22449e7257ec4e98cdbbe646cfd3ef26cdd47c"
  },
  "kernelspec": {
   "display_name": "Python 3.9.13 ('tens-gpu')",
   "language": "python",
   "name": "python3"
  },
  "language_info": {
   "codemirror_mode": {
    "name": "ipython",
    "version": 3
   },
   "file_extension": ".py",
   "mimetype": "text/x-python",
   "name": "python",
   "nbconvert_exporter": "python",
   "pygments_lexer": "ipython3",
   "version": "3.9.13"
  },
  "orig_nbformat": 4
 },
 "nbformat": 4,
 "nbformat_minor": 2
}
